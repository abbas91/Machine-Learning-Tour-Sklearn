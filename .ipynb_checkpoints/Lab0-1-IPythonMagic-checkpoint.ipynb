{
 "cells": [
  {
   "cell_type": "markdown",
   "metadata": {},
   "source": [
    "# IPython Magic Commands"
   ]
  },
  {
   "cell_type": "markdown",
   "metadata": {},
   "source": [
    "We will use [IPython notebooks](http://ipython.org/) for the\n",
    "notes. An IPython notebook lets you write and execute Python\n",
    "code in your web browser. IPython notebooks make it very easy to tinker with\n",
    "code and execute it in bits and pieces; for this reason IPython notebooks are\n",
    "widely used in scientific computing.\n",
    "\n",
    "Installing and running IPython is easy. From the command line in any system with python and pip, the following\n",
    "will install IPython:\n",
    "\n",
    "```\n",
    "pip install \"ipython[notebook]\"\n",
    "```\n",
    "\n",
    "Once you have IPython installed, start it with this command:\n",
    "\n",
    "```\n",
    "ipython notebook\n",
    "```\n",
    "\n",
    "Once IPython is running, point your web browser at http://localhost:8888 to\n",
    "start using IPython notebooks. If everything worked correctly, you should\n",
    "see a screen like this, showing all available IPython notebooks in the current\n",
    "directory:\n",
    "\n",
    "<div class='fig figcenter'>\n",
    "  <img src='./assets/file-browser.png'>\n",
    "</div>\n",
    "\n",
    "If you click through to a notebook file, you will see a screen like this:\n",
    "\n",
    "<div class='fig figcenter'>\n",
    "  <img src='./assets/notebook-1.png'>\n",
    "</div>"
   ]
  },
  {
   "cell_type": "markdown",
   "metadata": {},
   "source": [
    "An IPython notebook is made up of a number of **cells**. Each cell can contain\n",
    "Python code. You can execute a cell by clicking on it and pressing `Shift-Enter`.\n",
    "When you do so, the code in the cell will run, and the output of the cell\n",
    "will be displayed beneath the cell. For example, after running the first cell\n",
    "the notebook looks like this:\n",
    "\n",
    "<div class='fig figcenter'>\n",
    "  <img src='./assets/notebook-2.png'>\n",
    "</div>\n",
    "\n",
    "Global variables are shared between cells. Executing the second cell thus gives\n",
    "the following result:\n",
    "\n",
    "<div class='fig figcenter'>\n",
    "  <img src='./assets/notebook-3.png'>\n",
    "</div>"
   ]
  },
  {
   "cell_type": "markdown",
   "metadata": {},
   "source": [
    "By convention, IPython notebooks are expected to be run from top to bottom.\n",
    "Failing to execute some cells or executing cells out of order can result in\n",
    "errors:\n",
    "\n",
    "<div class='fig figcenter'>\n",
    "  <img src='./assets/notebook-error.png'>\n",
    "</div>"
   ]
  },
  {
   "cell_type": "markdown",
   "metadata": {},
   "source": [
    "IPython has a system of commands we call 'magics' that provide effectively a mini command language that is orthogonal to the syntax of Python and is extensible by the user with new commands. Magics are meant to be typed interactively, so they use command-line conventions, such as using whitespace for separating arguments, dashes for options and other conventions typical of a command-line environment.\n",
    "\n",
    "Magics come in two kinds:\n",
    "- Line magics: these are commands prepended by one % character and whose arguments only extend to the end of the current line.\n",
    "- Cell magics: these use two percent characters as a marker (%%), and they receive as argument both the current line where they are declared and the whole body of the cell."
   ]
  },
  {
   "cell_type": "code",
   "execution_count": 1,
   "metadata": {
    "collapsed": true
   },
   "outputs": [],
   "source": [
    "# brings up a documentation pane with an overview of IPython's feature\n",
    "?"
   ]
  },
  {
   "cell_type": "code",
   "execution_count": 2,
   "metadata": {
    "collapsed": true
   },
   "outputs": [],
   "source": [
    "# quick reference guide\n",
    "%quickref"
   ]
  },
  {
   "cell_type": "code",
   "execution_count": 3,
   "metadata": {
    "collapsed": false
   },
   "outputs": [
    {
     "name": "stdout",
     "output_type": "stream",
     "text": [
      "PING www.google.com (64.233.189.105) 56(84) bytes of data.\n",
      "64 bytes from tl-in-f105.1e100.net (64.233.189.105): icmp_seq=1 ttl=37 time=6.53 ms\n",
      "64 bytes from tl-in-f105.1e100.net (64.233.189.105): icmp_seq=2 ttl=37 time=1.36 ms\n",
      "64 bytes from tl-in-f105.1e100.net (64.233.189.105): icmp_seq=3 ttl=37 time=1.34 ms\n",
      "64 bytes from tl-in-f105.1e100.net (64.233.189.105): icmp_seq=4 ttl=37 time=1.61 ms\n",
      "64 bytes from tl-in-f105.1e100.net (64.233.189.105): icmp_seq=5 ttl=37 time=1.28 ms\n",
      "64 bytes from tl-in-f105.1e100.net (64.233.189.105): icmp_seq=6 ttl=37 time=0.659 ms\n",
      "64 bytes from tl-in-f105.1e100.net (64.233.189.105): icmp_seq=7 ttl=37 time=0.869 ms\n",
      "64 bytes from tl-in-f105.1e100.net (64.233.189.105): icmp_seq=8 ttl=37 time=0.587 ms\n",
      "64 bytes from tl-in-f105.1e100.net (64.233.189.105): icmp_seq=9 ttl=37 time=1.20 ms\n",
      "64 bytes from tl-in-f105.1e100.net (64.233.189.105): icmp_seq=10 ttl=37 time=0.861 ms\n",
      "64 bytes from tl-in-f105.1e100.net (64.233.189.105): icmp_seq=11 ttl=37 time=1.27 ms\n",
      "64 bytes from tl-in-f105.1e100.net (64.233.189.105): icmp_seq=12 ttl=37 time=1.37 ms\n",
      "64 bytes from tl-in-f105.1e100.net (64.233.189.105): icmp_seq=13 ttl=37 time=1.38 ms\n",
      "64 bytes from tl-in-f105.1e100.net (64.233.189.105): icmp_seq=14 ttl=37 time=0.737 ms\n",
      "64 bytes from tl-in-f105.1e100.net (64.233.189.105): icmp_seq=15 ttl=37 time=0.585 ms\n",
      "64 bytes from tl-in-f105.1e100.net (64.233.189.105): icmp_seq=16 ttl=37 time=1.34 ms\n",
      "64 bytes from tl-in-f105.1e100.net (64.233.189.105): icmp_seq=17 ttl=37 time=1.11 ms\n",
      "64 bytes from tl-in-f105.1e100.net (64.233.189.105): icmp_seq=18 ttl=37 time=0.469 ms\n",
      "64 bytes from tl-in-f105.1e100.net (64.233.189.105): icmp_seq=19 ttl=37 time=0.744 ms\n",
      "64 bytes from tl-in-f105.1e100.net (64.233.189.105): icmp_seq=20 ttl=37 time=1.22 ms\n",
      "64 bytes from tl-in-f105.1e100.net (64.233.189.105): icmp_seq=21 ttl=37 time=7.06 ms\n",
      "64 bytes from tl-in-f105.1e100.net (64.233.189.105): icmp_seq=22 ttl=37 time=0.844 ms\n",
      "64 bytes from tl-in-f105.1e100.net (64.233.189.105): icmp_seq=23 ttl=37 time=2.67 ms\n",
      "64 bytes from tl-in-f105.1e100.net (64.233.189.105): icmp_seq=24 ttl=37 time=0.636 ms\n",
      "64 bytes from tl-in-f105.1e100.net (64.233.189.105): icmp_seq=25 ttl=37 time=1.19 ms\n",
      "64 bytes from tl-in-f105.1e100.net (64.233.189.105): icmp_seq=26 ttl=37 time=1.46 ms\n",
      "64 bytes from tl-in-f105.1e100.net (64.233.189.105): icmp_seq=27 ttl=37 time=1.10 ms\n",
      "64 bytes from tl-in-f105.1e100.net (64.233.189.105): icmp_seq=28 ttl=37 time=0.920 ms\n",
      "64 bytes from tl-in-f105.1e100.net (64.233.189.105): icmp_seq=29 ttl=37 time=1.16 ms\n",
      "64 bytes from tl-in-f105.1e100.net (64.233.189.105): icmp_seq=30 ttl=37 time=0.931 ms\n",
      "64 bytes from tl-in-f105.1e100.net (64.233.189.105): icmp_seq=31 ttl=37 time=0.679 ms\n",
      "64 bytes from tl-in-f105.1e100.net (64.233.189.105): icmp_seq=32 ttl=37 time=1.72 ms\n",
      "64 bytes from tl-in-f105.1e100.net (64.233.189.105): icmp_seq=33 ttl=37 time=2.71 ms\n",
      "64 bytes from tl-in-f105.1e100.net (64.233.189.105): icmp_seq=34 ttl=37 time=0.548 ms\n",
      "64 bytes from tl-in-f105.1e100.net (64.233.189.105): icmp_seq=35 ttl=37 time=1.08 ms\n",
      "64 bytes from tl-in-f105.1e100.net (64.233.189.105): icmp_seq=36 ttl=37 time=1.01 ms\n",
      "64 bytes from tl-in-f105.1e100.net (64.233.189.105): icmp_seq=37 ttl=37 time=0.992 ms\n",
      "64 bytes from tl-in-f105.1e100.net (64.233.189.105): icmp_seq=38 ttl=37 time=0.643 ms\n",
      "64 bytes from tl-in-f105.1e100.net (64.233.189.105): icmp_seq=39 ttl=37 time=0.531 ms\n",
      "64 bytes from tl-in-f105.1e100.net (64.233.189.105): icmp_seq=40 ttl=37 time=0.852 ms\n",
      "64 bytes from tl-in-f105.1e100.net (64.233.189.105): icmp_seq=41 ttl=37 time=0.776 ms\n",
      "64 bytes from tl-in-f105.1e100.net (64.233.189.105): icmp_seq=42 ttl=37 time=0.828 ms\n",
      "64 bytes from tl-in-f105.1e100.net (64.233.189.105): icmp_seq=43 ttl=37 time=0.835 ms\n",
      "64 bytes from tl-in-f105.1e100.net (64.233.189.105): icmp_seq=44 ttl=37 time=1.14 ms\n",
      "64 bytes from tl-in-f105.1e100.net (64.233.189.105): icmp_seq=45 ttl=37 time=0.544 ms\n",
      "64 bytes from tl-in-f105.1e100.net (64.233.189.105): icmp_seq=46 ttl=37 time=2.73 ms\n",
      "64 bytes from tl-in-f105.1e100.net (64.233.189.105): icmp_seq=47 ttl=37 time=0.660 ms\n",
      "64 bytes from tl-in-f105.1e100.net (64.233.189.105): icmp_seq=48 ttl=37 time=1.20 ms\n",
      "64 bytes from tl-in-f105.1e100.net (64.233.189.105): icmp_seq=49 ttl=37 time=2.14 ms\n",
      "64 bytes from tl-in-f105.1e100.net (64.233.189.105): icmp_seq=50 ttl=37 time=0.677 ms\n",
      "64 bytes from tl-in-f105.1e100.net (64.233.189.105): icmp_seq=51 ttl=37 time=1.18 ms\n",
      "^C\n",
      "\n",
      "--- www.google.com ping statistics ---\n",
      "51 packets transmitted, 51 received, 0% packet loss, time 50030ms\n",
      "rtt min/avg/max/mdev = 0.469/1.334/7.063/1.224 ms\n"
     ]
    }
   ],
   "source": [
    "# use the ! operator to run system shell commands\n",
    "!ping www.google.com"
   ]
  },
  {
   "cell_type": "code",
   "execution_count": 5,
   "metadata": {
    "collapsed": false
   },
   "outputs": [
    {
     "data": {
      "text/plain": [
       "Type help() for interactive help, or help(object) for help about object."
      ]
     },
     "execution_count": 5,
     "metadata": {},
     "output_type": "execute_result"
    }
   ],
   "source": [
    "# several ways to interactively access help documentation\n",
    "help"
   ]
  },
  {
   "cell_type": "code",
   "execution_count": 6,
   "metadata": {
    "collapsed": true
   },
   "outputs": [],
   "source": [
    "# help module for magic commands\n",
    "%magic"
   ]
  },
  {
   "cell_type": "code",
   "execution_count": 7,
   "metadata": {
    "collapsed": false
   },
   "outputs": [
    {
     "data": {
      "application/json": {
       "cell": {
        "!": "OSMagics",
        "HTML": "Other",
        "SVG": "Other",
        "bash": "Other",
        "capture": "ExecutionMagics",
        "debug": "ExecutionMagics",
        "file": "Other",
        "html": "DisplayMagics",
        "javascript": "DisplayMagics",
        "js": "DisplayMagics",
        "latex": "DisplayMagics",
        "perl": "Other",
        "prun": "ExecutionMagics",
        "pypy": "Other",
        "python": "Other",
        "python2": "Other",
        "python3": "Other",
        "ruby": "Other",
        "script": "ScriptMagics",
        "sh": "Other",
        "svg": "DisplayMagics",
        "sx": "OSMagics",
        "system": "OSMagics",
        "time": "ExecutionMagics",
        "timeit": "ExecutionMagics",
        "writefile": "OSMagics"
       },
       "line": {
        "alias": "OSMagics",
        "alias_magic": "BasicMagics",
        "autocall": "AutoMagics",
        "automagic": "AutoMagics",
        "autosave": "KernelMagics",
        "bookmark": "OSMagics",
        "cat": "Other",
        "cd": "OSMagics",
        "clear": "KernelMagics",
        "colors": "BasicMagics",
        "config": "ConfigMagics",
        "connect_info": "KernelMagics",
        "cp": "Other",
        "debug": "ExecutionMagics",
        "dhist": "OSMagics",
        "dirs": "OSMagics",
        "doctest_mode": "BasicMagics",
        "ed": "Other",
        "edit": "KernelMagics",
        "env": "OSMagics",
        "gui": "BasicMagics",
        "hist": "Other",
        "history": "HistoryMagics",
        "killbgscripts": "ScriptMagics",
        "ldir": "Other",
        "less": "KernelMagics",
        "lf": "Other",
        "lk": "Other",
        "ll": "Other",
        "load": "CodeMagics",
        "load_ext": "ExtensionMagics",
        "loadpy": "CodeMagics",
        "logoff": "LoggingMagics",
        "logon": "LoggingMagics",
        "logstart": "LoggingMagics",
        "logstate": "LoggingMagics",
        "logstop": "LoggingMagics",
        "ls": "Other",
        "lsmagic": "BasicMagics",
        "lx": "Other",
        "macro": "ExecutionMagics",
        "magic": "BasicMagics",
        "man": "KernelMagics",
        "matplotlib": "PylabMagics",
        "mkdir": "Other",
        "more": "KernelMagics",
        "mv": "Other",
        "notebook": "BasicMagics",
        "page": "BasicMagics",
        "pastebin": "CodeMagics",
        "pdb": "ExecutionMagics",
        "pdef": "NamespaceMagics",
        "pdoc": "NamespaceMagics",
        "pfile": "NamespaceMagics",
        "pinfo": "NamespaceMagics",
        "pinfo2": "NamespaceMagics",
        "popd": "OSMagics",
        "pprint": "BasicMagics",
        "precision": "BasicMagics",
        "profile": "BasicMagics",
        "prun": "ExecutionMagics",
        "psearch": "NamespaceMagics",
        "psource": "NamespaceMagics",
        "pushd": "OSMagics",
        "pwd": "OSMagics",
        "pycat": "OSMagics",
        "pylab": "PylabMagics",
        "qtconsole": "KernelMagics",
        "quickref": "BasicMagics",
        "recall": "HistoryMagics",
        "rehashx": "OSMagics",
        "reload_ext": "ExtensionMagics",
        "rep": "Other",
        "rerun": "HistoryMagics",
        "reset": "NamespaceMagics",
        "reset_selective": "NamespaceMagics",
        "rm": "Other",
        "rmdir": "Other",
        "run": "ExecutionMagics",
        "save": "CodeMagics",
        "sc": "OSMagics",
        "set_env": "OSMagics",
        "store": "StoreMagics",
        "sx": "OSMagics",
        "system": "OSMagics",
        "tb": "ExecutionMagics",
        "time": "ExecutionMagics",
        "timeit": "ExecutionMagics",
        "unalias": "OSMagics",
        "unload_ext": "ExtensionMagics",
        "who": "NamespaceMagics",
        "who_ls": "NamespaceMagics",
        "whos": "NamespaceMagics",
        "xdel": "NamespaceMagics",
        "xmode": "BasicMagics"
       }
      },
      "text/plain": [
       "Available line magics:\n",
       "%alias  %alias_magic  %autocall  %automagic  %autosave  %bookmark  %cat  %cd  %clear  %colors  %config  %connect_info  %cp  %debug  %dhist  %dirs  %doctest_mode  %ed  %edit  %env  %gui  %hist  %history  %killbgscripts  %ldir  %less  %lf  %lk  %ll  %load  %load_ext  %loadpy  %logoff  %logon  %logstart  %logstate  %logstop  %ls  %lsmagic  %lx  %macro  %magic  %man  %matplotlib  %mkdir  %more  %mv  %notebook  %page  %pastebin  %pdb  %pdef  %pdoc  %pfile  %pinfo  %pinfo2  %popd  %pprint  %precision  %profile  %prun  %psearch  %psource  %pushd  %pwd  %pycat  %pylab  %qtconsole  %quickref  %recall  %rehashx  %reload_ext  %rep  %rerun  %reset  %reset_selective  %rm  %rmdir  %run  %save  %sc  %set_env  %store  %sx  %system  %tb  %time  %timeit  %unalias  %unload_ext  %who  %who_ls  %whos  %xdel  %xmode\n",
       "\n",
       "Available cell magics:\n",
       "%%!  %%HTML  %%SVG  %%bash  %%capture  %%debug  %%file  %%html  %%javascript  %%js  %%latex  %%perl  %%prun  %%pypy  %%python  %%python2  %%python3  %%ruby  %%script  %%sh  %%svg  %%sx  %%system  %%time  %%timeit  %%writefile\n",
       "\n",
       "Automagic is ON, % prefix IS NOT needed for line magics."
      ]
     },
     "execution_count": 7,
     "metadata": {},
     "output_type": "execute_result"
    }
   ],
   "source": [
    "# list of all available magic commands\n",
    "%lsmagic"
   ]
  },
  {
   "cell_type": "code",
   "execution_count": 8,
   "metadata": {
    "collapsed": true
   },
   "outputs": [],
   "source": [
    "# bring up the help module for a specific command\n",
    "%timeit?"
   ]
  },
  {
   "cell_type": "code",
   "execution_count": 9,
   "metadata": {
    "collapsed": true
   },
   "outputs": [],
   "source": [
    "# the ? syntax also works for any generic object\n",
    "x = 5\n",
    "x?"
   ]
  },
  {
   "cell_type": "code",
   "execution_count": 10,
   "metadata": {
    "collapsed": false
   },
   "outputs": [
    {
     "name": "stderr",
     "output_type": "stream",
     "text": [
      "ERROR:root:File `u'scripts/hello.py'` not found.\n"
     ]
    }
   ],
   "source": [
    "# run a python script from within the notebook\n",
    "%run scripts/hello"
   ]
  },
  {
   "cell_type": "code",
   "execution_count": 10,
   "metadata": {
    "collapsed": false
   },
   "outputs": [
    {
     "name": "stderr",
     "output_type": "stream",
     "text": [
      "ERROR: No traceback has been produced, nothing to debug.\n"
     ]
    }
   ],
   "source": [
    "# debug a statement either in-line or after the fact\n",
    "%debug"
   ]
  },
  {
   "cell_type": "code",
   "execution_count": 11,
   "metadata": {
    "collapsed": false
   },
   "outputs": [
    {
     "name": "stdout",
     "output_type": "stream",
     "text": [
      "The slowest run took 26.89 times longer than the fastest. This could mean that an intermediate result is being cached.\n",
      "1 loop, best of 3: 17.8 ms per loop\n"
     ]
    }
   ],
   "source": [
    "# time the execution of a statement\n",
    "import numpy as np\n",
    "%timeit np.linalg.eigvals(np.random.rand(100,100))"
   ]
  },
  {
   "cell_type": "code",
   "execution_count": 12,
   "metadata": {
    "collapsed": false
   },
   "outputs": [],
   "source": [
    "# additional magic can be loaded using load_ext\n",
    "%load_ext Cython"
   ]
  },
  {
   "cell_type": "code",
   "execution_count": 14,
   "metadata": {
    "collapsed": false
   },
   "outputs": [
    {
     "data": {
      "text/plain": [
       "{'AR': 'ar',\n",
       " 'AS': 'as',\n",
       " 'CC': 'gcc',\n",
       " 'CCACHE_BASEDIR': '/projects/sage/sage-6.10',\n",
       " 'CHMOD': 'chmod',\n",
       " 'CLICOLOR': '1',\n",
       " 'CP': 'cp',\n",
       " 'CPATH': '/projects/sage/sage-6.10/local/include:/usr/include/x86_64-linux-gnu',\n",
       " 'CXX': 'g++',\n",
       " 'DOT_SAGE': '/projects/db2660ae-7198-4112-bfaa-28fae744a511/.sage/',\n",
       " 'ECLDIR': '/projects/sage/sage-6.10/local/lib/ecl/',\n",
       " 'F77': 'gfortran',\n",
       " 'F90': 'gfortran',\n",
       " 'F95': 'gfortran',\n",
       " 'FC': 'gfortran',\n",
       " 'GIT_EXEC_PATH': '/projects/sage/sage-6.10/local/libexec/git-core',\n",
       " 'GIT_PAGER': 'cat',\n",
       " 'GIT_TEMPLATE_DIR': '/projects/sage/sage-6.10/local/share/git-core/templates',\n",
       " 'GPDOCDIR': '/projects/sage/sage-6.10/local/share/pari/doc',\n",
       " 'GPHELP': '/projects/sage/sage-6.10/local/bin/gphelp',\n",
       " 'GP_DATA_DIR': '/projects/sage/sage-6.10/local/share/pari',\n",
       " 'HOME': '/projects/db2660ae-7198-4112-bfaa-28fae744a511',\n",
       " 'IPYTHONDIR': '/projects/db2660ae-7198-4112-bfaa-28fae744a511/.sage//ipython_genutils-0.1.0',\n",
       " 'JPY_PARENT_PID': '22252',\n",
       " 'LANG': 'en_US.UTF-8',\n",
       " 'LD': 'ld',\n",
       " 'LDFLAGS': '',\n",
       " 'LD_LIBRARY_PATH': '/projects/sage/sage-6.10/local/lib:/projects/sage/sage-6.10/local/lib/R/lib',\n",
       " 'LIBRARY_PATH': '/projects/sage/sage-6.10/local/lib:/usr/lib/x86_64-linux-gnu',\n",
       " 'LN': 'ln',\n",
       " 'LOGNAME': 'db2660ae71984112bfaa28fae744a511',\n",
       " 'LS_COLORS': 'rs=0:di=01;34:ln=01;36:mh=00:pi=40;33:so=01;35:do=01;35:bd=40;33;01:cd=40;33;01:or=40;31;01:su=37;41:sg=30;43:ca=30;41:tw=30;42:ow=34;42:st=37;44:ex=01;32:*.tar=01;31:*.tgz=01;31:*.arc=01;31:*.arj=01;31:*.taz=01;31:*.lha=01;31:*.lz4=01;31:*.lzh=01;31:*.lzma=01;31:*.tlz=01;31:*.txz=01;31:*.tzo=01;31:*.t7z=01;31:*.zip=01;31:*.z=01;31:*.Z=01;31:*.dz=01;31:*.gz=01;31:*.lrz=01;31:*.lz=01;31:*.lzo=01;31:*.xz=01;31:*.bz2=01;31:*.bz=01;31:*.tbz=01;31:*.tbz2=01;31:*.tz=01;31:*.deb=01;31:*.rpm=01;31:*.jar=01;31:*.war=01;31:*.ear=01;31:*.sar=01;31:*.rar=01;31:*.alz=01;31:*.ace=01;31:*.zoo=01;31:*.cpio=01;31:*.7z=01;31:*.rz=01;31:*.cab=01;31:*.jpg=01;35:*.jpeg=01;35:*.gif=01;35:*.bmp=01;35:*.pbm=01;35:*.pgm=01;35:*.ppm=01;35:*.tga=01;35:*.xbm=01;35:*.xpm=01;35:*.tif=01;35:*.tiff=01;35:*.png=01;35:*.svg=01;35:*.svgz=01;35:*.mng=01;35:*.pcx=01;35:*.mov=01;35:*.mpg=01;35:*.mpeg=01;35:*.m2v=01;35:*.mkv=01;35:*.webm=01;35:*.ogm=01;35:*.mp4=01;35:*.m4v=01;35:*.mp4v=01;35:*.vob=01;35:*.qt=01;35:*.nuv=01;35:*.wmv=01;35:*.asf=01;35:*.rm=01;35:*.rmvb=01;35:*.flc=01;35:*.avi=01;35:*.fli=01;35:*.flv=01;35:*.gl=01;35:*.dl=01;35:*.xcf=01;35:*.xwd=01;35:*.yuv=01;35:*.cgm=01;35:*.emf=01;35:*.axv=01;35:*.anx=01;35:*.ogv=01;35:*.ogx=01;35:*.aac=00;36:*.au=00;36:*.flac=00;36:*.m4a=00;36:*.mid=00;36:*.midi=00;36:*.mka=00;36:*.mp3=00;36:*.mpc=00;36:*.ogg=00;36:*.ra=00;36:*.wav=00;36:*.axa=00;36:*.oga=00;36:*.spx=00;36:*.xspf=00;36:',\n",
       " 'MAIL': '/var/mail/db2660ae71984112bfaa28fae744a511',\n",
       " 'MAKE': 'make',\n",
       " 'MAXIMA_PREFIX': '/projects/sage/sage-6.10/local',\n",
       " 'MKDIR': 'mkdir',\n",
       " 'MPLCONFIGDIR': '/projects/db2660ae-7198-4112-bfaa-28fae744a511/.sage//matplotlib-1.5.0',\n",
       " 'MV': 'mv',\n",
       " 'PAGER': 'cat',\n",
       " 'PATH': '/projects/sage/sage-6.10/build/bin:/projects/sage/sage-6.10/src/bin:/projects/sage/sage-6.10/local/bin:/projects/db2660ae-7198-4112-bfaa-28fae744a511/bin:/usr/local/sbin:/usr/local/bin:/usr/sbin:/usr/bin:/sbin:/bin',\n",
       " 'PWD': '/projects/db2660ae-7198-4112-bfaa-28fae744a511',\n",
       " 'PYTHONHOME': '/projects/sage/sage-6.10/local',\n",
       " 'PYTHONPATH': '/projects/sage/sage-6.10/local/lib/python:/projects/sage/sage-6.10/local/lib/python/site_packages',\n",
       " 'PYTHON_EGG_CACHE': '/projects/db2660ae-7198-4112-bfaa-28fae744a511/.sage//.python-eggs',\n",
       " 'RANLIB': 'ranlib',\n",
       " 'R_MAKEVARS_SITE': '/projects/sage/sage-6.10/local/lib/R/share/Makevars.site',\n",
       " 'SAGE64': 'no',\n",
       " 'SAGE_DATA': '/projects/sage/sage-6.10/local/share',\n",
       " 'SAGE_DISTFILES': '/projects/sage/sage-6.10/upstream',\n",
       " 'SAGE_DOC': '/projects/sage/sage-6.10/src/doc',\n",
       " 'SAGE_DOC_MATHJAX': 'True',\n",
       " 'SAGE_ENV_SOURCED': '4',\n",
       " 'SAGE_ETC': '/projects/sage/sage-6.10/local/etc',\n",
       " 'SAGE_EXTCODE': '/projects/sage/sage-6.10/local/share/sage/ext',\n",
       " 'SAGE_LOCAL': '/projects/sage/sage-6.10/local',\n",
       " 'SAGE_LOGS': '/projects/sage/sage-6.10/logs/pkgs',\n",
       " 'SAGE_NUM_THREADS': '1',\n",
       " 'SAGE_NUM_THREADS_PARALLEL': '8',\n",
       " 'SAGE_ORIG_LD_LIBRARY_PATH': '',\n",
       " 'SAGE_ORIG_LD_LIBRARY_PATH_SET': 'True',\n",
       " 'SAGE_ORIG_PATH': '/projects/db2660ae-7198-4112-bfaa-28fae744a511/bin:/usr/local/sbin:/usr/local/bin:/usr/sbin:/usr/bin:/sbin:/bin',\n",
       " 'SAGE_ORIG_PATH_SET': 'True',\n",
       " 'SAGE_REPO_ANONYMOUS': 'git://trac.sagemath.org/sage.git',\n",
       " 'SAGE_REPO_AUTHENTICATED': 'ssh://git@trac.sagemath.org:2222/sage.git',\n",
       " 'SAGE_ROOT': '/projects/sage/sage-6.10',\n",
       " 'SAGE_SCRIPTS_DIR': '/projects/sage/sage-6.10/src/bin',\n",
       " 'SAGE_SHARE': '/projects/sage/sage-6.10/local/share',\n",
       " 'SAGE_SPKG_INST': '/projects/sage/sage-6.10/local/var/lib/sage/installed',\n",
       " 'SAGE_SRC': '/projects/sage/sage-6.10/src',\n",
       " 'SAGE_STARTUP_FILE': '/projects/db2660ae-7198-4112-bfaa-28fae744a511/.sage//init.sage',\n",
       " 'SHELL': '/bin/bash',\n",
       " 'SHLVL': '0',\n",
       " 'SINGULARPATH': '/projects/sage/sage-6.10/local/share/singular',\n",
       " 'SINGULAR_EXECUTABLE': '/projects/sage/sage-6.10/local/bin/Singular',\n",
       " 'SMC': '/projects/db2660ae-7198-4112-bfaa-28fae744a511/.smc',\n",
       " 'SMC_BASE_URL': '',\n",
       " 'TERM': 'xterm-color',\n",
       " 'TERMINFO': '/projects/sage/sage-6.10/local/share/terminfo',\n",
       " 'TOUCH': 'touch',\n",
       " 'UNAME': 'Linux',\n",
       " 'USER': 'db2660ae71984112bfaa28fae744a511',\n",
       " 'USERNAME': 'db2660ae71984112bfaa28fae744a511',\n",
       " '__sage__': ''}"
      ]
     },
     "execution_count": 14,
     "metadata": {},
     "output_type": "execute_result"
    }
   ],
   "source": [
    "# list all environment variables or specific variables\n",
    "%env "
   ]
  },
  {
   "cell_type": "code",
   "execution_count": 10,
   "metadata": {
    "collapsed": false
   },
   "outputs": [
    {
     "name": "stdout",
     "output_type": "stream",
     "text": [
      "# brings up a documentation pane with an overview of IPython's feature\n",
      "?\n",
      "# use the ! operator to run system shell commands\n",
      "!ping www.google.com\n",
      "# several ways to interactively access help documentation\n",
      "help\n",
      "# help module for magic commands\n",
      "%magic\n",
      "# list of all available magic commands\n",
      "%lsmagic\n",
      "# the ? syntax also works for any generic object\n",
      "x = 5\n",
      "x?\n",
      "# run a python script from within the notebook\n",
      "%run scripts/hello\n",
      "# additional magic can be loaded using load_ext\n",
      "%load_ext Cython\n",
      "# list all environment variables or specific variables\n",
      "%env SYSTEMROOT\n",
      "# print the cache of previously executed commands\n",
      "%history\n"
     ]
    }
   ],
   "source": [
    "# print the cache of previously executed commands\n",
    "%history"
   ]
  },
  {
   "cell_type": "code",
   "execution_count": 15,
   "metadata": {
    "collapsed": true
   },
   "outputs": [],
   "source": [
    "# set matplotlib to inline or interactive (qt) mode\n",
    "%matplotlib inline"
   ]
  },
  {
   "cell_type": "code",
   "execution_count": 16,
   "metadata": {
    "collapsed": false
   },
   "outputs": [
    {
     "name": "stdout",
     "output_type": "stream",
     "text": [
      " \u001b[0murllib\u001b[0m\u001b[1;33m.\u001b[0m\u001b[0murlopen\u001b[0m\u001b[1;33m(\u001b[0m\u001b[0murl\u001b[0m\u001b[1;33m,\u001b[0m \u001b[0mdata\u001b[0m\u001b[1;33m=\u001b[0m\u001b[0mNone\u001b[0m\u001b[1;33m,\u001b[0m \u001b[0mproxies\u001b[0m\u001b[1;33m=\u001b[0m\u001b[0mNone\u001b[0m\u001b[1;33m,\u001b[0m \u001b[0mcontext\u001b[0m\u001b[1;33m=\u001b[0m\u001b[0mNone\u001b[0m\u001b[1;33m)\u001b[0m\u001b[1;33m\u001b[0m\u001b[0m\n",
      " "
     ]
    }
   ],
   "source": [
    "# print the call signature for any object\n",
    "import urllib\n",
    "%pdef urllib.urlopen"
   ]
  },
  {
   "cell_type": "code",
   "execution_count": 17,
   "metadata": {
    "collapsed": true
   },
   "outputs": [],
   "source": [
    "# print the docstring for a class/callable object\n",
    "%pdoc urllib"
   ]
  },
  {
   "cell_type": "code",
   "execution_count": 18,
   "metadata": {
    "collapsed": false
   },
   "outputs": [
    {
     "name": "stdout",
     "output_type": "stream",
     "text": [
      "np\t urllib\t x\t \n"
     ]
    }
   ],
   "source": [
    "# print all interactive variables\n",
    "%who"
   ]
  },
  {
   "cell_type": "code",
   "execution_count": 19,
   "metadata": {
    "collapsed": false
   },
   "outputs": [
    {
     "name": "stdout",
     "output_type": "stream",
     "text": [
      "Variable   Type      Data/Info\n",
      "------------------------------\n",
      "np         module    <module 'numpy' from '/pr<...>ages/numpy/__init__.pyc'>\n",
      "urllib     module    <module 'urllib' from '/p<...>ib/python2.7/urllib.pyc'>\n",
      "x          int       5\n"
     ]
    }
   ],
   "source": [
    "# same as who but more information\n",
    "%whos"
   ]
  },
  {
   "cell_type": "code",
   "execution_count": 20,
   "metadata": {
    "collapsed": false
   },
   "outputs": [
    {
     "name": "stdout",
     "output_type": "stream",
     "text": [
      " "
     ]
    },
    {
     "data": {
      "image/png": "[encoded data removed]",
      "text/plain": [
       "<matplotlib.figure.Figure at 0x7f7c6c7fee50>"
      ]
     },
     "metadata": {},
     "output_type": "display_data"
    }
   ],
   "source": [
    "# example using cProfile\n",
    "import matplotlib.pyplot as plt\n",
    "\n",
    "def f(x):\n",
    "    return x**3 - 1\n",
    "\n",
    "def fprime(x):\n",
    "    return 3*x**2\n",
    "\n",
    "def newton(z, f, fprime, max_iter=100, tol=1e-6):\n",
    "    \"\"\"The Newton-Raphson method.\"\"\"\n",
    "    for i in range(max_iter):\n",
    "        step = f(z)/fprime(z)\n",
    "        if abs(step) < tol:\n",
    "            return i, z\n",
    "        z -= step\n",
    "    return i, z\n",
    "\n",
    "def plot_newton_iters(p, pprime, n=200, extent=[-1,1,-1,1], cmap='hsv'):\n",
    "    \"\"\"Shows how long it takes to converge to a root using the Newton-Raphson method.\"\"\"\n",
    "    m = np.zeros((n,n))\n",
    "    xmin, xmax, ymin, ymax = extent\n",
    "    for r, x in enumerate(np.linspace(xmin, xmax, n)):\n",
    "        for s, y in enumerate(np.linspace(ymin, ymax, n)):\n",
    "            z = x + y*1j\n",
    "            m[s, r] = newton(z, p, pprime)[0]\n",
    "    plt.imshow(m, cmap=cmap, extent=extent)\n",
    "\n",
    "stats = %prun -r -q plot_newton_iters(f, fprime)"
   ]
  },
  {
   "cell_type": "code",
   "execution_count": 21,
   "metadata": {
    "collapsed": false
   },
   "outputs": [
    {
     "name": "stdout",
     "output_type": "stream",
     "text": [
      "         1098956 function calls (1098325 primitive calls) in 1.452 seconds\n",
      "\n",
      "   Ordered by: internal time\n",
      "   List reduced from 480 to 10 due to restriction <10>\n",
      "\n",
      "   ncalls  tottime  percall  cumtime  percall filename:lineno(function)\n",
      "    40000    0.438    0.000    1.004    0.000 <ipython-input-20-38d8350aa4f3>:10(newton)\n",
      "        1    0.239    0.239    1.452    1.452 <ipython-input-20-38d8350aa4f3>:19(plot_newton_iters)\n",
      "   324388    0.238    0.000    0.238    0.000 <ipython-input-20-38d8350aa4f3>:4(f)\n",
      "   324388    0.234    0.000    0.234    0.000 <ipython-input-20-38d8350aa4f3>:7(fprime)\n",
      "      107    0.098    0.001    0.101    0.001 transforms.py:2261(__init__)\n",
      "   324392    0.064    0.000    0.064    0.000 {abs}\n",
      "    40004    0.031    0.000    0.031    0.000 {range}\n",
      "      201    0.007    0.000    0.013    0.000 function_base.py:9(linspace)\n",
      "     1398    0.005    0.000    0.005    0.000 {numpy.core.multiarray.array}\n",
      "       96    0.004    0.000    0.052    0.001 lines.py:251(__init__)\n",
      "\n",
      "\n"
     ]
    },
    {
     "data": {
      "text/plain": [
       "<pstats.Stats instance at 0x7f7c6c8c6200>"
      ]
     },
     "execution_count": 21,
     "metadata": {},
     "output_type": "execute_result"
    }
   ],
   "source": [
    "stats.sort_stats('time').print_stats(10)"
   ]
  },
  {
   "cell_type": "code",
   "execution_count": 22,
   "metadata": {
    "collapsed": false
   },
   "outputs": [
    {
     "name": "stdout",
     "output_type": "stream",
     "text": [
      "Once deleted, variables cannot be recovered. Proceed (y/[n])? y\n"
     ]
    }
   ],
   "source": [
    "# reset the namespace\n",
    "%reset"
   ]
  },
  {
   "cell_type": "code",
   "execution_count": null,
   "metadata": {
    "collapsed": true
   },
   "outputs": [],
   "source": []
  }
 ],
 "metadata": {
  "kernelspec": {
   "display_name": "Python 2",
   "language": "python",
   "name": "python2"
  },
  "language_info": {
   "codemirror_mode": {
    "name": "ipython",
    "version": 2
   },
   "file_extension": ".py",
   "mimetype": "text/x-python",
   "name": "python",
   "nbconvert_exporter": "python",
   "pygments_lexer": "ipython2",
   "version": "2.7.6"
  },
  "name": "IPythonMagic.ipynb"
 },
 "nbformat": 4,
 "nbformat_minor": 0
}
